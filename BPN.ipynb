{
 "cells": [
  {
   "cell_type": "code",
   "execution_count": 2,
   "metadata": {},
   "outputs": [],
   "source": [
    "from sklearn.metrics import r2_score\n",
    "from sklearn.neural_network import MLPRegressor\n",
    "from sklearn.model_selection import train_test_split\n",
    "\n",
    "import numpy as np\n",
    "import pandas as pd\n"
   ]
  },
  {
   "cell_type": "code",
   "execution_count": 6,
   "metadata": {},
   "outputs": [],
   "source": [
    "df = pd.read_csv(\"CR_Data.csv\")\n",
    "\n",
    "x = df.drop(['label'], axis=1).values\n",
    "y = df['label'].values\n",
    "\n",
    "x_train, x_test, y_train, y_test = train_test_split(x,y,test_size= 0.25, random_state = 0)\n",
    "\n"
   ]
  },
  {
   "cell_type": "code",
   "execution_count": 14,
   "metadata": {},
   "outputs": [],
   "source": [
    "# bpn = MLPRegressor(random_state=1, max_iter=300)\n",
    "\n",
    "clr = MLPRegressor(hidden_layer_sizes=(100,100,100), max_iter=500, alpha=0.0001,solver='sgd', random_state=1,tol=0.000000001, verbose=1, activation=\"logistic\")\n"
   ]
  },
  {
   "cell_type": "code",
   "execution_count": 15,
   "metadata": {},
   "outputs": [
    {
     "name": "stdout",
     "output_type": "stream",
     "text": [
      "Iteration 1, loss = 52.83163787\n",
      "Iteration 2, loss = 22.47439859\n",
      "Iteration 3, loss = 22.02413467\n",
      "Iteration 4, loss = 20.21881910\n",
      "Iteration 5, loss = 20.16125438\n",
      "Iteration 6, loss = 20.00325053\n",
      "Iteration 7, loss = 19.99895467\n",
      "Iteration 8, loss = 19.92638844\n",
      "Iteration 9, loss = 19.94175079\n",
      "Iteration 10, loss = 19.90424512\n",
      "Iteration 11, loss = 19.84724385\n",
      "Iteration 12, loss = 19.81422593\n",
      "Iteration 13, loss = 19.75569744\n",
      "Iteration 14, loss = 19.69887818\n",
      "Iteration 15, loss = 19.62910195\n",
      "Iteration 16, loss = 19.56129186\n",
      "Iteration 17, loss = 19.45922386\n",
      "Iteration 18, loss = 19.33285920\n",
      "Iteration 19, loss = 19.19003962\n",
      "Iteration 20, loss = 19.01699541\n",
      "Iteration 21, loss = 18.82933737\n",
      "Iteration 22, loss = 18.59388557\n",
      "Iteration 23, loss = 18.31689275\n",
      "Iteration 24, loss = 17.98269089\n",
      "Iteration 25, loss = 17.62774467\n",
      "Iteration 26, loss = 17.19494775\n",
      "Iteration 27, loss = 16.75228702\n",
      "Iteration 28, loss = 16.22012180\n",
      "Iteration 29, loss = 15.68698776\n",
      "Iteration 30, loss = 15.08248895\n",
      "Iteration 31, loss = 14.48085951\n",
      "Iteration 32, loss = 13.93958896\n",
      "Iteration 33, loss = 13.34077473\n",
      "Iteration 34, loss = 12.93199967\n",
      "Iteration 35, loss = 12.39014475\n",
      "Iteration 36, loss = 12.10962699\n",
      "Iteration 37, loss = 11.73094646\n",
      "Iteration 38, loss = 11.60829867\n",
      "Iteration 39, loss = 11.40087259\n",
      "Iteration 40, loss = 11.03679368\n",
      "Iteration 41, loss = 10.76884123\n",
      "Iteration 42, loss = 10.62664203\n",
      "Iteration 43, loss = 10.73463255\n",
      "Iteration 44, loss = 10.14018649\n",
      "Iteration 45, loss = 10.02373518\n",
      "Iteration 46, loss = 9.87051291\n",
      "Iteration 47, loss = 9.52076517\n",
      "Iteration 48, loss = 9.25037159\n",
      "Iteration 49, loss = 8.97226619\n",
      "Iteration 50, loss = 8.90224160\n",
      "Iteration 51, loss = 8.93790437\n",
      "Iteration 52, loss = 8.61140928\n",
      "Iteration 53, loss = 8.27461707\n",
      "Iteration 54, loss = 8.64943727\n",
      "Iteration 55, loss = 8.16670579\n",
      "Iteration 56, loss = 8.58500340\n",
      "Iteration 57, loss = 7.99676138\n",
      "Iteration 58, loss = 8.18243273\n",
      "Iteration 59, loss = 7.95897617\n",
      "Iteration 60, loss = 7.67760178\n",
      "Iteration 61, loss = 7.30919689\n",
      "Iteration 62, loss = 7.26824906\n",
      "Iteration 63, loss = 7.55288819\n",
      "Iteration 64, loss = 7.01498476\n",
      "Iteration 65, loss = 7.11466861\n",
      "Iteration 66, loss = 7.02152035\n",
      "Iteration 67, loss = 6.81873329\n",
      "Iteration 68, loss = 6.79047127\n",
      "Iteration 69, loss = 6.64242526\n",
      "Iteration 70, loss = 7.43223555\n",
      "Iteration 71, loss = 6.85837465\n",
      "Iteration 72, loss = 6.47353282\n",
      "Iteration 73, loss = 6.42558949\n",
      "Iteration 74, loss = 6.54533133\n",
      "Iteration 75, loss = 6.23109720\n",
      "Iteration 76, loss = 6.35084686\n",
      "Iteration 77, loss = 6.23158488\n",
      "Iteration 78, loss = 6.10765132\n",
      "Iteration 79, loss = 5.82139267\n",
      "Iteration 80, loss = 5.84390172\n",
      "Iteration 81, loss = 6.28639737\n",
      "Iteration 82, loss = 5.81001540\n",
      "Iteration 83, loss = 5.87476345\n",
      "Iteration 84, loss = 6.12532434\n",
      "Iteration 85, loss = 5.74545010\n",
      "Iteration 86, loss = 5.59376799\n",
      "Iteration 87, loss = 5.81640618\n",
      "Iteration 88, loss = 5.26142250\n",
      "Iteration 89, loss = 5.32160814\n",
      "Iteration 90, loss = 5.48521028\n",
      "Iteration 91, loss = 5.64765709\n",
      "Iteration 92, loss = 5.63135969\n",
      "Iteration 93, loss = 5.54791998\n",
      "Iteration 94, loss = 5.43240882\n",
      "Iteration 95, loss = 5.72731162\n",
      "Iteration 96, loss = 5.69379727\n",
      "Iteration 97, loss = 5.42223191\n",
      "Iteration 98, loss = 5.27854977\n",
      "Iteration 99, loss = 5.45938442\n",
      "Training loss did not improve more than tol=0.000000 for 10 consecutive epochs. Stopping.\n"
     ]
    }
   ],
   "source": [
    "model = clr.fit(x_train, y_train,)\n"
   ]
  },
  {
   "cell_type": "code",
   "execution_count": 16,
   "metadata": {},
   "outputs": [],
   "source": [
    "y_pred = model.predict(x_test)\n",
    "\n",
    "# print(\"Accuracy = \", r2_score(y_test, y_pred) )"
   ]
  },
  {
   "cell_type": "code",
   "execution_count": 17,
   "metadata": {},
   "outputs": [
    {
     "name": "stdout",
     "output_type": "stream",
     "text": [
      "Accuracy =  0.6801937040618753\n"
     ]
    }
   ],
   "source": [
    "print(\"Accuracy = \", r2_score(y_test, y_pred) )"
   ]
  },
  {
   "cell_type": "code",
   "execution_count": null,
   "metadata": {},
   "outputs": [],
   "source": []
  }
 ],
 "metadata": {
  "kernelspec": {
   "display_name": "Python 3",
   "language": "python",
   "name": "python3"
  },
  "language_info": {
   "codemirror_mode": {
    "name": "ipython",
    "version": 3
   },
   "file_extension": ".py",
   "mimetype": "text/x-python",
   "name": "python",
   "nbconvert_exporter": "python",
   "pygments_lexer": "ipython3",
   "version": "3.7.3"
  }
 },
 "nbformat": 4,
 "nbformat_minor": 4
}
